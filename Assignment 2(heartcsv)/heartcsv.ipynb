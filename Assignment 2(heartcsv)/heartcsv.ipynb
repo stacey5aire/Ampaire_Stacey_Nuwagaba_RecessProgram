{
 "cells": [
  {
   "cell_type": "code",
   "execution_count": 3,
   "metadata": {},
   "outputs": [],
   "source": [
    "import pandas as pd\n",
    "import numpy as np\n",
    "import seaborn as sns\n",
    "import matplotlib.pyplot as plt"
   ]
  },
  {
   "cell_type": "code",
   "execution_count": 4,
   "metadata": {},
   "outputs": [
    {
     "name": "stdout",
     "output_type": "stream",
     "text": [
      "     age  sex  cp  trestbps  chol  fbs  restecg  thalach  exang  oldpeak  \\\n",
      "293   67    1   2       152   212    0        0      150      0      0.8   \n",
      "294   44    1   0       120   169    0        1      144      1      2.8   \n",
      "295   63    1   0       140   187    0        0      144      1      4.0   \n",
      "296   63    0   0       124   197    0        1      136      1      0.0   \n",
      "297   59    1   0       164   176    1        0       90      0      1.0   \n",
      "298   57    0   0       140   241    0        1      123      1      0.2   \n",
      "299   45    1   3       110   264    0        1      132      0      1.2   \n",
      "300   68    1   0       144   193    1        1      141      0      3.4   \n",
      "301   57    1   0       130   131    0        1      115      1      1.2   \n",
      "302   57    0   1       130   236    0        0      174      0      0.0   \n",
      "\n",
      "     slope  ca  thal  target  \n",
      "293      1   0     3       0  \n",
      "294      0   0     1       0  \n",
      "295      2   2     3       0  \n",
      "296      1   0     2       0  \n",
      "297      1   2     1       0  \n",
      "298      1   0     3       0  \n",
      "299      1   0     3       0  \n",
      "300      1   2     3       0  \n",
      "301      1   1     3       0  \n",
      "302      1   1     2       0  \n"
     ]
    }
   ],
   "source": [
    "data = pd.read_csv(r'C:\\Users\\HP USER\\Downloads\\heart.csv')\n",
    "print(data.tail(10))"
   ]
  },
  {
   "cell_type": "code",
   "execution_count": 5,
   "metadata": {},
   "outputs": [
    {
     "name": "stdout",
     "output_type": "stream",
     "text": [
      "age         0\n",
      "sex         0\n",
      "cp          0\n",
      "trestbps    0\n",
      "chol        0\n",
      "fbs         0\n",
      "restecg     0\n",
      "thalach     0\n",
      "exang       0\n",
      "oldpeak     0\n",
      "slope       0\n",
      "ca          0\n",
      "thal        0\n",
      "target      0\n",
      "dtype: int64\n"
     ]
    }
   ],
   "source": [
    "#Check for missing values\n",
    "print(data.isnull().sum())"
   ]
  },
  {
   "cell_type": "code",
   "execution_count": 6,
   "metadata": {},
   "outputs": [
    {
     "name": "stdout",
     "output_type": "stream",
     "text": [
      "Number of duplicate rows: 1\n"
     ]
    }
   ],
   "source": [
    "# Step 2: Check for duplicates\n",
    "duplicates = data.duplicated().sum()\n",
    "print(f\"Number of duplicate rows: {duplicates}\")"
   ]
  },
  {
   "cell_type": "code",
   "execution_count": 7,
   "metadata": {},
   "outputs": [],
   "source": [
    "# Remove duplicates if any\n",
    "data = data.drop_duplicates()"
   ]
  },
  {
   "cell_type": "code",
   "execution_count": 8,
   "metadata": {},
   "outputs": [
    {
     "name": "stdout",
     "output_type": "stream",
     "text": [
      "Data types before conversion:\n",
      " age           int64\n",
      "sex           int64\n",
      "cp            int64\n",
      "trestbps      int64\n",
      "chol          int64\n",
      "fbs           int64\n",
      "restecg       int64\n",
      "thalach       int64\n",
      "exang         int64\n",
      "oldpeak     float64\n",
      "slope         int64\n",
      "ca            int64\n",
      "thal          int64\n",
      "target        int64\n",
      "dtype: object\n",
      "Data types after conversion:\n",
      " age           int64\n",
      "sex           int64\n",
      "cp            int64\n",
      "trestbps      int64\n",
      "chol          int64\n",
      "fbs           int64\n",
      "restecg       int64\n",
      "thalach       int64\n",
      "exang         int64\n",
      "oldpeak     float64\n",
      "slope         int64\n",
      "ca            int64\n",
      "thal          int64\n",
      "target        int64\n",
      "dtype: object\n"
     ]
    }
   ],
   "source": [
    "# Step 4: Ensure correct data types\n",
    "print(\"Data types before conversion:\\n\", data.dtypes)\n",
    "data['age'] = data['age'].astype(int)\n",
    "data['sex'] = data['sex'].astype(int)\n",
    "data['cp'] = data['cp'].astype(int)\n",
    "data['trestbps'] = data['trestbps'].astype(int)\n",
    "data['chol'] = data['chol'].astype(int)\n",
    "data['fbs'] = data['fbs'].astype(int)\n",
    "data['restecg'] = data['restecg'].astype(int)\n",
    "data['thalach'] = data['thalach'].astype(int)\n",
    "data['exang'] = data['exang'].astype(int)\n",
    "data['oldpeak'] = data['oldpeak'].astype(float)\n",
    "data['slope'] = data['slope'].astype(int)\n",
    "data['ca'] = data['ca'].astype(int)\n",
    "data['thal'] = data['thal'].astype(int)\n",
    "data['target'] = data['target'].astype(int)\n",
    "print(\"Data types after conversion:\\n\", data.dtypes)"
   ]
  },
  {
   "cell_type": "code",
   "execution_count": 9,
   "metadata": {},
   "outputs": [
    {
     "name": "stdout",
     "output_type": "stream",
     "text": [
      "Number of outliers: 15\n"
     ]
    }
   ],
   "source": [
    "# Step 5: Identify and handle outliers (simple method, detailed analysis may require more sophisticated techniques)\n",
    "# use z-score to identify outliers\n",
    "from scipy.stats import zscore\n",
    "z_scores = np.abs(zscore(data.select_dtypes(include=[np.number])))\n",
    "outliers = (z_scores > 3).sum(axis=1)\n",
    "outliers = outliers[outliers > 0]\n",
    "print(f\"Number of outliers: {len(outliers)}\")\n"
   ]
  },
  {
   "cell_type": "code",
   "execution_count": 19,
   "metadata": {},
   "outputs": [
    {
     "name": "stdout",
     "output_type": "stream",
     "text": [
      "Number of rows after removing outliers: 287\n"
     ]
    }
   ],
   "source": [
    "# Remove outliers from the dataset\n",
    "data_no_outliers = data[(z_scores < 3).all(axis=1)]\n",
    "print(f\"Number of rows after removing outliers: {len(data_no_outliers)}\")\n"
   ]
  },
  {
   "cell_type": "code",
   "execution_count": 18,
   "metadata": {},
   "outputs": [
    {
     "name": "stdout",
     "output_type": "stream",
     "text": [
      "Number of outliers after removing: 2\n"
     ]
    }
   ],
   "source": [
    "# Check for outliers again\n",
    "z_scores_no_outliers = np.abs(zscore(data_no_outliers.select_dtypes(include=[np.number])))\n",
    "outliers_no_outliers = (z_scores_no_outliers > 3).sum(axis=1)\n",
    "outliers_no_outliers = outliers_no_outliers[outliers_no_outliers > 0]\n",
    "print(f\"Number of outliers after removing: {len(outliers_no_outliers)}\")"
   ]
  },
  {
   "cell_type": "code",
   "execution_count": 17,
   "metadata": {},
   "outputs": [
    {
     "name": "stdout",
     "output_type": "stream",
     "text": [
      "Number of outliers after Box-Cox transformation: 0\n"
     ]
    }
   ],
   "source": [
    "# Apply another transformation, for example, Box-Cox if the data is positive\n",
    "from scipy.stats import boxcox\n",
    "\n",
    "data_transformed = data_no_outliers.copy()\n",
    "for column in data.select_dtypes(include=[np.number]).columns:\n",
    "    if data_transformed[column].min() > 0:  # Box-Cox requires positive values\n",
    "        data_transformed[column], _ = boxcox(data_transformed[column])\n",
    "\n",
    "# Check for outliers again\n",
    "z_scores_transformed = np.abs(zscore(data_transformed.select_dtypes(include=[np.number])))\n",
    "outliers_transformed = (z_scores_transformed > 3.5).sum(axis=1)\n",
    "outliers_transformed = outliers_transformed[outliers_transformed > 0]\n",
    "print(f\"Number of outliers after Box-Cox transformation: {len(outliers_transformed)}\")\n",
    "\n",
    "\n"
   ]
  },
  {
   "cell_type": "code",
   "execution_count": 20,
   "metadata": {},
   "outputs": [],
   "source": [
    " #Normalize/Clean Data\n",
    "# Ensuring 'sex' column has only 0 and 1\n",
    "data = data[data['sex'].isin([0, 1])]"
   ]
  },
  {
   "cell_type": "code",
   "execution_count": 22,
   "metadata": {},
   "outputs": [],
   "source": [
    "# Ensuring 'fbs' column has only 0 and 1\n",
    "data = data[data['fbs'].isin([0, 1])]\n",
    "\n",
    "# Ensuring 'exang' column has only 0 and 1\n",
    "data = data[data['exang'].isin([0, 1])]\n",
    "\n",
    "# Ensure categorical columns have appropriate values\n",
    "# 'cp' should be in [0, 1, 2, 3]\n",
    "data = data[data['cp'].isin([0, 1, 2, 3])]\n",
    "\n",
    "# 'restecg' should be in [0, 1, 2]\n",
    "data = data[data['restecg'].isin([0, 1, 2])]\n",
    "\n",
    "# 'slope' should be in [0, 1, 2]\n",
    "data = data[data['slope'].isin([0, 1, 2])]\n",
    "\n",
    "# 'thal' should be in [0, 1, 2, 3]\n",
    "data = data[data['thal'].isin([0, 1, 2, 3])]"
   ]
  },
  {
   "cell_type": "code",
   "execution_count": 23,
   "metadata": {},
   "outputs": [],
   "source": [
    "# Check for negative or zero values in columns where they don't make sense\n",
    "columns_to_check = ['age', 'trestbps', 'chol', 'thalach']\n",
    "\n",
    "for column in columns_to_check:\n",
    "    wrong_data = data_no_outliers[data_no_outliers[column] <= 0]\n",
    "    if not wrong_data.empty:\n",
    "        print(f\"Wrong data in column '{column}':\")\n",
    "        print(wrong_data)\n"
   ]
  },
  {
   "cell_type": "code",
   "execution_count": 24,
   "metadata": {},
   "outputs": [],
   "source": [
    "#Checking for Unreasonable Range\n",
    "#  Define reasonable ranges\n",
    "reasonable_ranges = {\n",
    "    'age': (1, 120),\n",
    "    'trestbps': (90, 200),  # Typical range for resting blood pressure\n",
    "    'chol': (100, 600),     # Typical range for cholesterol\n",
    "    'thalach': (60, 220)    # Typical range for maximum heart rate\n",
    "}\n",
    "\n",
    "for column, (min_val, max_val) in reasonable_ranges.items():\n",
    "    wrong_data = data_no_outliers[(data_no_outliers[column] < min_val) | (data_no_outliers[column] > max_val)]\n",
    "    if not wrong_data.empty:\n",
    "        print(f\"Wrong data in column '{column}':\")\n",
    "        print(wrong_data)\n"
   ]
  },
  {
   "cell_type": "code",
   "execution_count": 25,
   "metadata": {},
   "outputs": [],
   "source": [
    "#check for inconsistencies\n",
    "inconsistent_data = data_no_outliers[(data_no_outliers['age'] > 90) & (data_no_outliers['thalach'] < 80)]\n",
    "if not inconsistent_data.empty:\n",
    "    print(\"Inconsistent data found:\")\n",
    "    print(inconsistent_data)\n"
   ]
  },
  {
   "cell_type": "code",
   "execution_count": 26,
   "metadata": {},
   "outputs": [
    {
     "name": "stdout",
     "output_type": "stream",
     "text": [
      "Cleaned dataset saved as 'cleaned_dataset.csv'\n"
     ]
    }
   ],
   "source": [
    "#Save the cleaned dataset to a CSV file\n",
    "data_no_outliers.to_csv('cleaned_dataset.csv', index=False)\n",
    "\n",
    "print(\"Cleaned dataset saved as 'cleaned_dataset.csv'\")"
   ]
  }
 ],
 "metadata": {
  "kernelspec": {
   "display_name": "Python 3",
   "language": "python",
   "name": "python3"
  },
  "language_info": {
   "codemirror_mode": {
    "name": "ipython",
    "version": 3
   },
   "file_extension": ".py",
   "mimetype": "text/x-python",
   "name": "python",
   "nbconvert_exporter": "python",
   "pygments_lexer": "ipython3",
   "version": "3.12.4"
  }
 },
 "nbformat": 4,
 "nbformat_minor": 2
}
