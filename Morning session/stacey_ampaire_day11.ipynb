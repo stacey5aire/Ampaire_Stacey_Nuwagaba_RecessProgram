{
 "cells": [
  {
   "cell_type": "code",
   "execution_count": null,
   "metadata": {},
   "outputs": [],
   "source": [
    "#Machine Learning\n",
    "#Types of machine learning:\n",
    "#Unsupervised Learning\n",
    "#Supervised Learning\n",
    "#Reinforcement Learning\n"
   ]
  },
  {
   "cell_type": "code",
   "execution_count": null,
   "metadata": {},
   "outputs": [],
   "source": [
    "#Data Processing\n",
    "#Data Cleaning\n",
    "#Steps to check for;\n",
    "#1. Duplicates, wrong format, wrong data, empty cell, missing data\n",
    "#Age 23, 230,1.33,1.44.1.58 Wrong date format,1/7/2024, 172024\n",
    "#Handling missing data, remove/delete, Imputation, Mean/Median/Mode,Use backward or forward filling\n",
    "#if you see something outrageous, (outlier), flag it.\n",
    "#Empty cells use mean, median\n"
   ]
  },
  {
   "cell_type": "code",
   "execution_count": null,
   "metadata": {},
   "outputs": [],
   "source": [
    "#EDA\n",
    "#Steps\n",
    "#Descriptive statistics\n",
    "#Measure of Central tendency, mean, median , mode\n",
    "#measure of spread: range, variance, standard deviation, interquartile range\n",
    "#skewness, kurtosis\n",
    "#Data Visualization, Histogram distribution of a single variable, Box plots, Identifying outliers,\n",
    "#Scatter plot examining relationships between two variables\n",
    "#Heatmaps - visualising correction metrics"
   ]
  },
  {
   "cell_type": "code",
   "execution_count": null,
   "metadata": {},
   "outputs": [],
   "source": [
    "#Tools for data visualisation\n",
    "#Matplotlib, Line, bar, scatter and histogram\n",
    "#Seaborn, themes, color palettes, looks more attractive\n",
    "#Plotly, Bokeh\n"
   ]
  },
  {
   "cell_type": "code",
   "execution_count": null,
   "metadata": {},
   "outputs": [],
   "source": [
    "#Future Engineering \n",
    "#Selection, Filter like chi-square, ANOVA\n",
    "#Wrapper recursive features\n",
    "#Embedded, Lasso regresion\n",
    "\n",
    "#//Feature scaling and Normalization\n",
    "#Normalization Rescale to a range, (Age, 20-28)\n",
    "#Standard Deviation, trandform std, \n",
    "#Create new features, Polynomials, interaction"
   ]
  },
  {
   "cell_type": "code",
   "execution_count": null,
   "metadata": {},
   "outputs": [],
   "source": [
    "#Data Splitting \n",
    "#Training and evaluation of a model\n",
    "#Most common ratios, 20 for testing and 80 for training, 30, 70\n",
    "#import Sckit-learn help to splite train_test_split\n"
   ]
  },
  {
   "cell_type": "code",
   "execution_count": null,
   "metadata": {},
   "outputs": [],
   "source": [
    "#Random state is used to shuffle data into a training and test set\n",
    "#Cross validation->evaluate the performance of the data multiple folds\n",
    "#Types are, train/test we can use K-Fold Cross validation \n",
    "#Stratified K-fold, ensure our distribution of the target variable, particularly used in the imbalance datasets\n",
    "#Cross Validation helps in reducing variance in model performance estimates \n",
    "#provides a comprehensive evaluation of model performance"
   ]
  },
  {
   "cell_type": "code",
   "execution_count": null,
   "metadata": {},
   "outputs": [],
   "source": [
    "#Supervised Learning Algorithms\n",
    "#1. Regression, Linear, Polynomial\n",
    "#2.Classification\n",
    "#Logistic Regression, k-Nearest Neighbors(kNN), Support Vector Machine(SVM), Decision Trees and Random Forest\n",
    "\n",
    "#Model Evaluation\n",
    "#Metrics: Accuracy, Precision, Recall, F1 Score\n",
    "#Confusion Matrix\n",
    "#AUC and ROC Under the Curve, Receiver Operating Characteristics Curve"
   ]
  },
  {
   "cell_type": "code",
   "execution_count": null,
   "metadata": {},
   "outputs": [],
   "source": [
    "#Summary Supervised Learning \n",
    "#Labelled, Predict output for new inputs, Common Task, Classification and Regression \n",
    "\n",
    "#Summary of Unsupervised Learning \n",
    "#Unlabelled, find hidden patterns or structures in data, Common task like, Clustering, Dimensionality, association Rule Learning\n",
    "\n",
    "#Definition\n",
    "#Supervised Learning: Learn from labelled data to predict outputs for new inputs\n",
    "#Unsupervised Learning: Learns from unlabelled data to identify patterns and structures within data\n"
   ]
  }
 ],
 "metadata": {
  "language_info": {
   "name": "python"
  }
 },
 "nbformat": 4,
 "nbformat_minor": 2
}
